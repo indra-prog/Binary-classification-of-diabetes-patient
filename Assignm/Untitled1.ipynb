{
 "cells": [
  {
   "cell_type": "code",
   "execution_count": 5,
   "metadata": {},
   "outputs": [
    {
     "ename": "FileNotFoundError",
     "evalue": "[Errno 2] No such file or directory: 'practical.txt'",
     "output_type": "error",
     "traceback": [
      "\u001b[1;31m---------------------------------------------------------------------------\u001b[0m",
      "\u001b[1;31mFileNotFoundError\u001b[0m                         Traceback (most recent call last)",
      "\u001b[1;32m<ipython-input-5-8eeec928cfba>\u001b[0m in \u001b[0;36m<module>\u001b[1;34m\u001b[0m\n\u001b[0;32m      5\u001b[0m \u001b[1;33m\u001b[0m\u001b[0m\n\u001b[0;32m      6\u001b[0m \u001b[1;31m#Opens a file in read mode\u001b[0m\u001b[1;33m\u001b[0m\u001b[1;33m\u001b[0m\u001b[1;33m\u001b[0m\u001b[0m\n\u001b[1;32m----> 7\u001b[1;33m \u001b[0mfile\u001b[0m \u001b[1;33m=\u001b[0m \u001b[0mopen\u001b[0m\u001b[1;33m(\u001b[0m\u001b[1;34m\"practical.txt\"\u001b[0m\u001b[1;33m,\u001b[0m \u001b[1;34m\"r\"\u001b[0m\u001b[1;33m)\u001b[0m\u001b[1;33m\u001b[0m\u001b[1;33m\u001b[0m\u001b[0m\n\u001b[0m\u001b[0;32m      8\u001b[0m \u001b[1;33m\u001b[0m\u001b[0m\n\u001b[0;32m      9\u001b[0m \u001b[1;31m#Gets each line till end of file is reached\u001b[0m\u001b[1;33m\u001b[0m\u001b[1;33m\u001b[0m\u001b[1;33m\u001b[0m\u001b[0m\n",
      "\u001b[1;31mFileNotFoundError\u001b[0m: [Errno 2] No such file or directory: 'practical.txt'"
     ]
    }
   ],
   "source": [
    "count = 0;  \n",
    "word = \"\";  \n",
    "maxCount = 0;  \n",
    "words = [];  \n",
    "   \n",
    "#Opens a file in read mode  \n",
    "file = open(\"practical.txt\", \"r\")  \n",
    "      \n",
    "#Gets each line till end of file is reached  \n",
    "for line in file:  \n",
    "    #Splits each line into words  \n",
    "    string = line.lower().replace(',','').replace('.','').split(\" \");  \n",
    "    #Adding all words generated in previous step into words  \n",
    "    for s in string:  \n",
    "        words.append(s);  \n",
    "   \n",
    "#Determine the most repeated word in a file  \n",
    "for i in range(0, len(words)):  \n",
    "    count = 1;  \n",
    "    #Count each word in the file and store it in variable count  \n",
    "    for j in range(i+1, len(words)):  \n",
    "        if(words[i] == words[j]):  \n",
    "            count = count + 1;  \n",
    "              \n",
    "    #If maxCount is less than count then store value of count in maxCount  \n",
    "    #and corresponding word to variable word  \n",
    "    if(count > maxCount):  \n",
    "        maxCount = count;  \n",
    "        word = words[i];  \n",
    "          \n",
    "print(\"Most repeated word: \" + word);  \n",
    "file.close();  "
   ]
  },
  {
   "cell_type": "code",
   "execution_count": 6,
   "metadata": {},
   "outputs": [
    {
     "ename": "FileNotFoundError",
     "evalue": "[Errno 2] No such file or directory: 'data.txt'",
     "output_type": "error",
     "traceback": [
      "\u001b[1;31m---------------------------------------------------------------------------\u001b[0m",
      "\u001b[1;31mFileNotFoundError\u001b[0m                         Traceback (most recent call last)",
      "\u001b[1;32m<ipython-input-6-888607a20f8b>\u001b[0m in \u001b[0;36m<module>\u001b[1;34m\u001b[0m\n\u001b[0;32m      5\u001b[0m \u001b[1;33m\u001b[0m\u001b[0m\n\u001b[0;32m      6\u001b[0m \u001b[1;31m#Opens a file in read mode\u001b[0m\u001b[1;33m\u001b[0m\u001b[1;33m\u001b[0m\u001b[1;33m\u001b[0m\u001b[0m\n\u001b[1;32m----> 7\u001b[1;33m \u001b[0mfile\u001b[0m \u001b[1;33m=\u001b[0m \u001b[0mopen\u001b[0m\u001b[1;33m(\u001b[0m\u001b[1;34m\"data.txt\"\u001b[0m\u001b[1;33m,\u001b[0m \u001b[1;34m\"r\"\u001b[0m\u001b[1;33m)\u001b[0m\u001b[1;33m\u001b[0m\u001b[1;33m\u001b[0m\u001b[0m\n\u001b[0m\u001b[0;32m      8\u001b[0m \u001b[1;33m\u001b[0m\u001b[0m\n\u001b[0;32m      9\u001b[0m \u001b[1;31m#Gets each line till end of file is reached\u001b[0m\u001b[1;33m\u001b[0m\u001b[1;33m\u001b[0m\u001b[1;33m\u001b[0m\u001b[0m\n",
      "\u001b[1;31mFileNotFoundError\u001b[0m: [Errno 2] No such file or directory: 'data.txt'"
     ]
    }
   ],
   "source": [
    "count = 0;  \n",
    "word = \"\";  \n",
    "maxCount = 0;  \n",
    "words = [];  \n",
    "   \n",
    "#Opens a file in read mode  \n",
    "file = open(\"data.txt\", \"r\")  \n",
    "      \n",
    "#Gets each line till end of file is reached  \n",
    "for line in file:  \n",
    "    #Splits each line into words  \n",
    "    string = line.lower().replace(',','').replace('.','').split(\" \");  \n",
    "    #Adding all words generated in previous step into words  \n",
    "    for s in string:  \n",
    "        words.append(s);  \n",
    "   \n",
    "#Determine the most repeated word in a file  \n",
    "for i in range(0, len(words)):  \n",
    "    count = 1;  \n",
    "    #Count each word in the file and store it in variable count  \n",
    "    for j in range(i+1, len(words)):  \n",
    "        if(words[i] == words[j]):  \n",
    "            count = count + 1;  \n",
    "              \n",
    "    #If maxCount is less than count then store value of count in maxCount  \n",
    "    #and corresponding word to variable word  \n",
    "    if(count > maxCount):  \n",
    "        maxCount = count;  \n",
    "        word = words[i];  \n",
    "          \n",
    "print(\"Most repeated word: \" + word);  \n",
    "file.close();"
   ]
  },
  {
   "cell_type": "code",
   "execution_count": null,
   "metadata": {},
   "outputs": [],
   "source": []
  }
 ],
 "metadata": {
  "kernelspec": {
   "display_name": "Python 3",
   "language": "python",
   "name": "python3"
  },
  "language_info": {
   "codemirror_mode": {
    "name": "ipython",
    "version": 3
   },
   "file_extension": ".py",
   "mimetype": "text/x-python",
   "name": "python",
   "nbconvert_exporter": "python",
   "pygments_lexer": "ipython3",
   "version": "3.7.6"
  }
 },
 "nbformat": 4,
 "nbformat_minor": 4
}
